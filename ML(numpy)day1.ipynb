{
  "nbformat": 4,
  "nbformat_minor": 0,
  "metadata": {
    "colab": {
      "name": "Copy of Welcome To Colaboratory",
      "version": "0.3.2",
      "provenance": [],
      "collapsed_sections": [],
      "include_colab_link": true
    },
    "kernelspec": {
      "display_name": "Python 3",
      "name": "python3"
    }
  },
  "cells": [
    {
      "cell_type": "markdown",
      "metadata": {
        "id": "view-in-github",
        "colab_type": "text"
      },
      "source": [
        "<a href=\"https://colab.research.google.com/github/j-agrawal/Machine-Learning/blob/master/ML(numpy)day1.ipynb\" target=\"_parent\"><img src=\"https://colab.research.google.com/assets/colab-badge.svg\" alt=\"Open In Colab\"/></a>"
      ]
    },
    {
      "cell_type": "code",
      "metadata": {
        "id": "tJ_siPn4CJKO",
        "colab_type": "code",
        "colab": {}
      },
      "source": [
        "import numpy as np"
      ],
      "execution_count": 0,
      "outputs": []
    },
    {
      "cell_type": "code",
      "metadata": {
        "id": "IyGu2YmgCgGW",
        "colab_type": "code",
        "colab": {}
      },
      "source": [
        "a=np.array([2,7,1,99,4])"
      ],
      "execution_count": 0,
      "outputs": []
    },
    {
      "cell_type": "code",
      "metadata": {
        "id": "-of_c5oJC6uA",
        "colab_type": "code",
        "colab": {}
      },
      "source": [
        "print(a)"
      ],
      "execution_count": 0,
      "outputs": []
    },
    {
      "cell_type": "code",
      "metadata": {
        "id": "uf36tJFSC9lZ",
        "colab_type": "code",
        "colab": {}
      },
      "source": [
        "type(a)"
      ],
      "execution_count": 0,
      "outputs": []
    },
    {
      "cell_type": "code",
      "metadata": {
        "id": "aNIaBzTJDGPW",
        "colab_type": "code",
        "colab": {}
      },
      "source": [
        "b=np.array([12,17,11,199,14])"
      ],
      "execution_count": 0,
      "outputs": []
    },
    {
      "cell_type": "code",
      "metadata": {
        "id": "1sSLWVbXDTxR",
        "colab_type": "code",
        "colab": {}
      },
      "source": [
        "a"
      ],
      "execution_count": 0,
      "outputs": []
    },
    {
      "cell_type": "code",
      "metadata": {
        "id": "nEdRxjveDVAr",
        "colab_type": "code",
        "colab": {}
      },
      "source": [
        "b"
      ],
      "execution_count": 0,
      "outputs": []
    },
    {
      "cell_type": "code",
      "metadata": {
        "id": "p1JD4LmwDVzB",
        "colab_type": "code",
        "colab": {}
      },
      "source": [
        "a[0]"
      ],
      "execution_count": 0,
      "outputs": []
    },
    {
      "cell_type": "code",
      "metadata": {
        "id": "0iLd6JhXDaXP",
        "colab_type": "code",
        "colab": {}
      },
      "source": [
        "b[0]"
      ],
      "execution_count": 0,
      "outputs": []
    },
    {
      "cell_type": "code",
      "metadata": {
        "id": "Ax3yNXq4DeR-",
        "colab_type": "code",
        "colab": {}
      },
      "source": [
        "a+b"
      ],
      "execution_count": 0,
      "outputs": []
    },
    {
      "cell_type": "code",
      "metadata": {
        "id": "DNqGr_ReDvLx",
        "colab_type": "code",
        "colab": {}
      },
      "source": [
        "a+2"
      ],
      "execution_count": 0,
      "outputs": []
    },
    {
      "cell_type": "code",
      "metadata": {
        "id": "HPMGAU-EDyDE",
        "colab_type": "code",
        "colab": {}
      },
      "source": [
        "a*2"
      ],
      "execution_count": 0,
      "outputs": []
    },
    {
      "cell_type": "code",
      "metadata": {
        "id": "lSnLSLBgD2Qs",
        "colab_type": "code",
        "colab": {}
      },
      "source": [
        "a**2"
      ],
      "execution_count": 0,
      "outputs": []
    },
    {
      "cell_type": "code",
      "metadata": {
        "id": "QUzhCUx8D3mu",
        "colab_type": "code",
        "colab": {}
      },
      "source": [
        "x=np.array([[2,5,8], [3,6,1]])"
      ],
      "execution_count": 0,
      "outputs": []
    },
    {
      "cell_type": "code",
      "metadata": {
        "id": "ZVtyleAsF1OC",
        "colab_type": "code",
        "colab": {}
      },
      "source": [
        "print(x)"
      ],
      "execution_count": 0,
      "outputs": []
    },
    {
      "cell_type": "code",
      "metadata": {
        "id": "hd2wRAlBGCN3",
        "colab_type": "code",
        "colab": {}
      },
      "source": [
        "x"
      ],
      "execution_count": 0,
      "outputs": []
    },
    {
      "cell_type": "code",
      "metadata": {
        "id": "loUFeedgGEpY",
        "colab_type": "code",
        "colab": {}
      },
      "source": [
        "x[0]"
      ],
      "execution_count": 0,
      "outputs": []
    },
    {
      "cell_type": "code",
      "metadata": {
        "id": "FYspA2H_GvSG",
        "colab_type": "code",
        "colab": {}
      },
      "source": [
        "x[0,0]"
      ],
      "execution_count": 0,
      "outputs": []
    },
    {
      "cell_type": "code",
      "metadata": {
        "id": "3MzEcGEdGx7V",
        "colab_type": "code",
        "colab": {}
      },
      "source": [
        "x[0,0]"
      ],
      "execution_count": 0,
      "outputs": []
    },
    {
      "cell_type": "code",
      "metadata": {
        "id": "XFRmo3f5GzxX",
        "colab_type": "code",
        "colab": {}
      },
      "source": [
        "x+7"
      ],
      "execution_count": 0,
      "outputs": []
    },
    {
      "cell_type": "code",
      "metadata": {
        "id": "-t_GwPCcG8Ge",
        "colab_type": "code",
        "colab": {}
      },
      "source": [
        "y=x+7"
      ],
      "execution_count": 0,
      "outputs": []
    },
    {
      "cell_type": "code",
      "metadata": {
        "id": "AbQUYEaIG9jN",
        "colab_type": "code",
        "colab": {}
      },
      "source": [
        "y"
      ],
      "execution_count": 0,
      "outputs": []
    },
    {
      "cell_type": "code",
      "metadata": {
        "id": "1l69sciTG-uZ",
        "colab_type": "code",
        "colab": {}
      },
      "source": [
        "x*2"
      ],
      "execution_count": 0,
      "outputs": []
    },
    {
      "cell_type": "code",
      "metadata": {
        "id": "y6n84h3hG_6B",
        "colab_type": "code",
        "colab": {}
      },
      "source": [
        "x**2"
      ],
      "execution_count": 0,
      "outputs": []
    },
    {
      "cell_type": "code",
      "metadata": {
        "id": "8XNZd-i5HBCX",
        "colab_type": "code",
        "colab": {}
      },
      "source": [
        "x**3"
      ],
      "execution_count": 0,
      "outputs": []
    },
    {
      "cell_type": "code",
      "metadata": {
        "id": "ELOIfLBMHCxN",
        "colab_type": "code",
        "colab": {}
      },
      "source": [
        "x"
      ],
      "execution_count": 0,
      "outputs": []
    },
    {
      "cell_type": "code",
      "metadata": {
        "id": "xbuEIs4pHY-E",
        "colab_type": "code",
        "colab": {}
      },
      "source": [
        "x[1]"
      ],
      "execution_count": 0,
      "outputs": []
    },
    {
      "cell_type": "code",
      "metadata": {
        "id": "7j-ZctQOHalt",
        "colab_type": "code",
        "colab": {}
      },
      "source": [
        "z=np.array([[2,7],[3,8],[2,9],[9,4]])"
      ],
      "execution_count": 0,
      "outputs": []
    },
    {
      "cell_type": "code",
      "metadata": {
        "id": "a7yZN9w8HrVN",
        "colab_type": "code",
        "colab": {}
      },
      "source": [
        "z"
      ],
      "execution_count": 0,
      "outputs": []
    },
    {
      "cell_type": "code",
      "metadata": {
        "id": "FS0WNatlHr3l",
        "colab_type": "code",
        "colab": {}
      },
      "source": [
        "x"
      ],
      "execution_count": 0,
      "outputs": []
    },
    {
      "cell_type": "code",
      "metadata": {
        "id": "mwA_DkifHtN2",
        "colab_type": "code",
        "colab": {}
      },
      "source": [
        "x.shape"
      ],
      "execution_count": 0,
      "outputs": []
    },
    {
      "cell_type": "code",
      "metadata": {
        "id": "q--kjZfgHySk",
        "colab_type": "code",
        "colab": {}
      },
      "source": [
        "z.shape"
      ],
      "execution_count": 0,
      "outputs": []
    },
    {
      "cell_type": "code",
      "metadata": {
        "id": "J1kxwI6FH0x8",
        "colab_type": "code",
        "colab": {}
      },
      "source": [
        "z[0:2] #for printing range of rows..."
      ],
      "execution_count": 0,
      "outputs": []
    },
    {
      "cell_type": "code",
      "metadata": {
        "id": "tajIWRA5ILRB",
        "colab_type": "code",
        "colab": {}
      },
      "source": [
        "z[0:] #printing all rows"
      ],
      "execution_count": 0,
      "outputs": []
    },
    {
      "cell_type": "code",
      "metadata": {
        "id": "odroPxWjIZdw",
        "colab_type": "code",
        "colab": {}
      },
      "source": [
        "#x[row:range,column:range]"
      ],
      "execution_count": 0,
      "outputs": []
    },
    {
      "cell_type": "code",
      "metadata": {
        "id": "_m8z4XuCIlDB",
        "colab_type": "code",
        "colab": {}
      },
      "source": [
        "z[0:]"
      ],
      "execution_count": 0,
      "outputs": []
    },
    {
      "cell_type": "code",
      "metadata": {
        "id": "5toVzC7UIpwA",
        "colab_type": "code",
        "colab": {}
      },
      "source": [
        "z[0:2,0]"
      ],
      "execution_count": 0,
      "outputs": []
    },
    {
      "cell_type": "code",
      "metadata": {
        "id": "5UyURYJjIurI",
        "colab_type": "code",
        "colab": {}
      },
      "source": [
        "x[0:,1]"
      ],
      "execution_count": 0,
      "outputs": []
    },
    {
      "cell_type": "code",
      "metadata": {
        "id": "FCYCqaa3JJQ-",
        "colab_type": "code",
        "colab": {}
      },
      "source": [
        "x[0:,0:2]"
      ],
      "execution_count": 0,
      "outputs": []
    },
    {
      "cell_type": "code",
      "metadata": {
        "id": "MHt1T0CzJQBz",
        "colab_type": "code",
        "colab": {}
      },
      "source": [
        "x[0:,[0,2]]"
      ],
      "execution_count": 0,
      "outputs": []
    },
    {
      "cell_type": "code",
      "metadata": {
        "id": "KL1DsOPVJtCq",
        "colab_type": "code",
        "colab": {}
      },
      "source": [
        "z[2]"
      ],
      "execution_count": 0,
      "outputs": []
    },
    {
      "cell_type": "code",
      "metadata": {
        "id": "_ElIfriiKfSS",
        "colab_type": "code",
        "colab": {}
      },
      "source": [
        "z"
      ],
      "execution_count": 0,
      "outputs": []
    },
    {
      "cell_type": "code",
      "metadata": {
        "id": "UbN6cWW4Klam",
        "colab_type": "code",
        "colab": {}
      },
      "source": [
        "x"
      ],
      "execution_count": 0,
      "outputs": []
    },
    {
      "cell_type": "code",
      "metadata": {
        "id": "K3eMQsCMKot0",
        "colab_type": "code",
        "colab": {}
      },
      "source": [
        "z[[0,3],[1]]"
      ],
      "execution_count": 0,
      "outputs": []
    },
    {
      "cell_type": "code",
      "metadata": {
        "id": "TQulzEtfK3fC",
        "colab_type": "code",
        "colab": {}
      },
      "source": [
        "b=np.array([[1,9,7],[3,2,8],[4,5,6],[2,9,0]])\n",
        "b"
      ],
      "execution_count": 0,
      "outputs": []
    },
    {
      "cell_type": "code",
      "metadata": {
        "id": "p12tqxemLvuo",
        "colab_type": "code",
        "colab": {}
      },
      "source": [
        "b.shape"
      ],
      "execution_count": 0,
      "outputs": []
    },
    {
      "cell_type": "code",
      "metadata": {
        "id": "ZPPHWgSEL3kv",
        "colab_type": "code",
        "colab": {}
      },
      "source": [
        "b[0:4,[1]]\n"
      ],
      "execution_count": 0,
      "outputs": []
    },
    {
      "cell_type": "code",
      "metadata": {
        "id": "qzVGibmjMEAY",
        "colab_type": "code",
        "colab": {}
      },
      "source": [
        "b[0:4,[2]]\n"
      ],
      "execution_count": 0,
      "outputs": []
    },
    {
      "cell_type": "code",
      "metadata": {
        "id": "EPflfl56Mk1J",
        "colab_type": "code",
        "colab": {}
      },
      "source": [
        "b[0:,[2]]"
      ],
      "execution_count": 0,
      "outputs": []
    },
    {
      "cell_type": "code",
      "metadata": {
        "id": "KT4rSdXDMxR9",
        "colab_type": "code",
        "colab": {}
      },
      "source": [
        "b[1:3,[1]]"
      ],
      "execution_count": 0,
      "outputs": []
    },
    {
      "cell_type": "code",
      "metadata": {
        "id": "A3yfrb_tM-cg",
        "colab_type": "code",
        "colab": {}
      },
      "source": [
        "b[1:4,2]"
      ],
      "execution_count": 0,
      "outputs": []
    },
    {
      "cell_type": "code",
      "metadata": {
        "id": "i0P5laZ1NS-p",
        "colab_type": "code",
        "colab": {}
      },
      "source": [
        "b[1:4,[2]]"
      ],
      "execution_count": 0,
      "outputs": []
    },
    {
      "cell_type": "code",
      "metadata": {
        "id": "XzjIKcekNXSQ",
        "colab_type": "code",
        "colab": {}
      },
      "source": [
        "b[1:4,[2]]"
      ],
      "execution_count": 0,
      "outputs": []
    },
    {
      "cell_type": "code",
      "metadata": {
        "id": "pYCXT_oZNbXq",
        "colab_type": "code",
        "colab": {}
      },
      "source": [
        "b[1:4,2]"
      ],
      "execution_count": 0,
      "outputs": []
    },
    {
      "cell_type": "code",
      "metadata": {
        "id": "RNWd-J-KNfhc",
        "colab_type": "code",
        "colab": {}
      },
      "source": [
        "b[1:4,[0,2]]"
      ],
      "execution_count": 0,
      "outputs": []
    },
    {
      "cell_type": "code",
      "metadata": {
        "id": "obW4x0m1NxGr",
        "colab_type": "code",
        "colab": {}
      },
      "source": [
        "x"
      ],
      "execution_count": 0,
      "outputs": []
    },
    {
      "cell_type": "code",
      "metadata": {
        "id": "TjMytn8YOQWp",
        "colab_type": "code",
        "colab": {}
      },
      "source": [
        "x.reshape(3,2)"
      ],
      "execution_count": 0,
      "outputs": []
    },
    {
      "cell_type": "code",
      "metadata": {
        "id": "843GrfTkOUx0",
        "colab_type": "code",
        "colab": {}
      },
      "source": [
        "x1=x.reshape(3,2)"
      ],
      "execution_count": 0,
      "outputs": []
    },
    {
      "cell_type": "code",
      "metadata": {
        "id": "hqSHLqNYOZuH",
        "colab_type": "code",
        "colab": {}
      },
      "source": [
        "x1"
      ],
      "execution_count": 0,
      "outputs": []
    },
    {
      "cell_type": "code",
      "metadata": {
        "id": "p3jjf62ZOawY",
        "colab_type": "code",
        "colab": {}
      },
      "source": [
        "np.full((4,5),9)"
      ],
      "execution_count": 0,
      "outputs": []
    },
    {
      "cell_type": "code",
      "metadata": {
        "id": "7dalJLiBQXMR",
        "colab_type": "code",
        "colab": {}
      },
      "source": [
        "for i in dir(np):\n",
        "    if 'zer' in i:\n",
        "        print(i)"
      ],
      "execution_count": 0,
      "outputs": []
    },
    {
      "cell_type": "code",
      "metadata": {
        "id": "WJm4C8hcQqCD",
        "colab_type": "code",
        "colab": {}
      },
      "source": [
        "[i  for i in dir(np)   if 'zer' in i ]"
      ],
      "execution_count": 0,
      "outputs": []
    },
    
     
      
    }
  ]
}
