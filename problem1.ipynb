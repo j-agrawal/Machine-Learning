{
  "nbformat": 4,
  "nbformat_minor": 0,
  "metadata": {
    "colab": {
      "name": "problem1",
      "version": "0.3.2",
      "provenance": [],
      "collapsed_sections": [],
      "include_colab_link": true
    },
    "kernelspec": {
      "name": "python3",
      "display_name": "Python 3"
    }
  },
  "cells": [
    {
      "cell_type": "markdown",
      "metadata": {
        "id": "view-in-github",
        "colab_type": "text"
      },
      "source": [
        "<a href=\"https://colab.research.google.com/github/j-agrawal/Machine-Learning/blob/master/problem1.ipynb\" target=\"_parent\"><img src=\"https://colab.research.google.com/assets/colab-badge.svg\" alt=\"Open In Colab\"/></a>"
      ]
    },
    {
      "cell_type": "code",
      "metadata": {
        "id": "Pu9VmpTU7roU",
        "colab_type": "code",
        "colab": {}
      },
      "source": [
        "import numpy as np"
      ],
      "execution_count": 0,
      "outputs": []
    },
    {
      "cell_type": "code",
      "metadata": {
        "id": "UMIbzHRR8FXe",
        "colab_type": "code",
        "outputId": "10ef42e0-d8d4-4740-ef30-5a352dd65db5",
        "colab": {
          "base_uri": "https://localhost:8080/",
          "height": 68
        }
      },
      "source": [
        "i = int(input(\"enter no of rows:\"))\n",
        "j = int(input(\"enter no of columns:\"))\n",
        "print(\"the matrix order is %d x %d\" %(i,j) )"
      ],
      "execution_count": 0,
      "outputs": [
        {
          "output_type": "stream",
          "text": [
            "enter no of rows:3\n",
            "enter no of columns:2\n",
            "the matrix order is 3 x 2\n"
          ],
          "name": "stdout"
        }
      ]
    },
    {
      "cell_type": "code",
      "metadata": {
        "id": "_LYm0XDF8p2a",
        "colab_type": "code",
        "colab": {}
      },
      "source": [
        "a= np.random.randint(0,500,[i,j])"
      ],
      "execution_count": 0,
      "outputs": []
    },
    {
      "cell_type": "code",
      "metadata": {
        "id": "heOQ3vqKJb2Q",
        "colab_type": "code",
        "colab": {
          "base_uri": "https://localhost:8080/",
          "height": 68
        },
        "outputId": "7aac93b5-135c-4dad-ba2f-a8122b494c4a"
      },
      "source": [
        "a"
      ],
      "execution_count": 38,
      "outputs": [
        {
          "output_type": "execute_result",
          "data": {
            "text/plain": [
              "array([[469, 218],\n",
              "       [477,   9],\n",
              "       [343,  93]])"
            ]
          },
          "metadata": {
            "tags": []
          },
          "execution_count": 38
        }
      ]
    },
    {
      "cell_type": "code",
      "metadata": {
        "id": "vE0MoveHLBZ0",
        "colab_type": "code",
        "colab": {}
      },
      "source": [
        "\n",
        "np.savetxt('jayesh.txt',a)"
      ],
      "execution_count": 0,
      "outputs": []
    },
    {
      "cell_type": "code",
      "metadata": {
        "id": "J54rDxDCN6C9",
        "colab_type": "code",
        "colab": {
          "base_uri": "https://localhost:8080/",
          "height": 68
        },
        "outputId": "3b9bba1a-747f-437b-edfa-3cec44eb27af"
      },
      "source": [
        "np.loadtxt('jayesh.txt')"
      ],
      "execution_count": 55,
      "outputs": [
        {
          "output_type": "execute_result",
          "data": {
            "text/plain": [
              "array([[469., 218.],\n",
              "       [477.,   9.],\n",
              "       [343.,  93.]])"
            ]
          },
          "metadata": {
            "tags": []
          },
          "execution_count": 55
        }
      ]
    }
  ]
}