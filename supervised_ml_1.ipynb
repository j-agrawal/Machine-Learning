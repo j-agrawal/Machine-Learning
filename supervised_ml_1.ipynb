{
  "nbformat": 4,
  "nbformat_minor": 0,
  "metadata": {
    "colab": {
      "name": "supervised_ml_1",
      "version": "0.3.2",
      "provenance": [],
      "collapsed_sections": [],
      "include_colab_link": true
    },
    "kernelspec": {
      "name": "python3",
      "display_name": "Python 3"
    }
  },
  "cells": [
    {
      "cell_type": "markdown",
      "metadata": {
        "id": "view-in-github",
        "colab_type": "text"
      },
      "source": [
        "<a href=\"https://colab.research.google.com/github/j-agrawal/Machine-Learning/blob/supervised_ML/supervised_ml_1.ipynb\" target=\"_parent\"><img src=\"https://colab.research.google.com/assets/colab-badge.svg\" alt=\"Open In Colab\"/></a>"
      ]
    },
    {
      "cell_type": "code",
      "metadata": {
        "id": "CRtXCvx_JbV-",
        "colab_type": "code",
        "colab": {}
      },
      "source": [
        "import numpy as np\n",
        "import pandas as pd\n",
        "from sklearn.tree import DecisionTreeClassifier # importing decision tree classifier only"
      ],
      "execution_count": 0,
      "outputs": []
    },
    {
      "cell_type": "code",
      "metadata": {
        "id": "Xoi77bV1fD89",
        "colab_type": "code",
        "colab": {}
      },
      "source": [
        "# this is for apple and orange\n",
        "# here smooth is for apple and bumpy is for orange\n",
        "# here 1 is for bumpy and 0 is for smooth\n",
        "features= [[100,0],[120,0],[130,1],[150,1]]"
      ],
      "execution_count": 0,
      "outputs": []
    },
    {
      "cell_type": "code",
      "metadata": {
        "id": "efWU1i-nfkA9",
        "colab_type": "code",
        "colab": {}
      },
      "source": [
        "#now answer accordingly\n",
        "label= [\"apple\",'apple',\"orange\",\"orange\"]"
      ],
      "execution_count": 0,
      "outputs": []
    },
    {
      "cell_type": "code",
      "metadata": {
        "id": "ULwg9k-3fwUQ",
        "colab_type": "code",
        "colab": {}
      },
      "source": [
        "# calling decision tree classifier \n",
        "clf=DecisionTreeClassifier()"
      ],
      "execution_count": 0,
      "outputs": []
    },
    {
      "cell_type": "code",
      "metadata": {
        "id": "6nwaDTFnhcqJ",
        "colab_type": "code",
        "colab": {}
      },
      "source": [
        "# now time for training data \n",
        "trained= clf.fit(features, label)"
      ],
      "execution_count": 0,
      "outputs": []
    },
    {
      "cell_type": "code",
      "metadata": {
        "id": "Jn2IFSCEhwXt",
        "colab_type": "code",
        "outputId": "379af3f7-7b82-49b9-d63e-3925e0897bc6",
        "colab": {
          "base_uri": "https://localhost:8080/",
          "height": 34
        }
      },
      "source": [
        "# now predicting \n",
        "trained.predict([[123,1]])"
      ],
      "execution_count": 0,
      "outputs": [
        {
          "output_type": "execute_result",
          "data": {
            "text/plain": [
              "array(['orange'], dtype='<U6')"
            ]
          },
          "metadata": {
            "tags": []
          },
          "execution_count": 7
        }
      ]
    },
    {
      "cell_type": "code",
      "metadata": {
        "id": "pQwC6Dsriph1",
        "colab_type": "code",
        "colab": {}
      },
      "source": [
        ""
      ],
      "execution_count": 0,
      "outputs": []
    }
  ]
}