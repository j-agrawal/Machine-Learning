{
  "nbformat": 4,
  "nbformat_minor": 0,
  "metadata": {
    "colab": {
      "name": "matplotlib .ipynb",
      "version": "0.3.2",
      "provenance": [],
      "collapsed_sections": [],
      "include_colab_link": true
    },
    "kernelspec": {
      "name": "python3",
      "display_name": "Python 3"
    }
  },
  "cells": [
    {
      "cell_type": "markdown",
      "metadata": {
        "id": "view-in-github",
        "colab_type": "text"
      },
      "source": [
        "<a href=\"https://colab.research.google.com/github/j-agrawal/Machine-Learning/blob/master/matplotlib_.ipynb\" target=\"_parent\"><img src=\"https://colab.research.google.com/assets/colab-badge.svg\" alt=\"Open In Colab\"/></a>"
      ]
    },
    {
      "cell_type": "code",
      "metadata": {
        "id": "lyAAiqKOUqRR",
        "colab_type": "code",
        "colab": {}
      },
      "source": [
        "#!pip3 install library (for installing any library in colab)\n",
        "import matplotlib.pyplot as plt # load"
      ],
      "execution_count": 0,
      "outputs": []
    },
    {
      "cell_type": "code",
      "metadata": {
        "id": "OjnRLX2-U3Dn",
        "colab_type": "code",
        "colab": {}
      },
      "source": [
        "x=[2,3] \n",
        "x1=[4,3,8]"
      ],
      "execution_count": 0,
      "outputs": []
    },
    {
      "cell_type": "code",
      "metadata": {
        "id": "KRz4TUiJU4M4",
        "colab_type": "code",
        "colab": {}
      },
      "source": [
        "y=[9,5]\n",
        "y1=[2,9,7]"
      ],
      "execution_count": 0,
      "outputs": []
    },
    {
      "cell_type": "code",
      "metadata": {
        "id": "A3XI3YHkU9B7",
        "colab_type": "code",
        "outputId": "04e51234-ce35-473c-f1bc-afeccfe197d9",
        "colab": {
          "base_uri": "https://localhost:8080/",
          "height": 300
        }
      },
      "source": [
        "plt.xlabel(\"time\")           # place time as x axis label\n",
        "plt.ylabel(\"speed\")          # place speed as y axis label\n",
        "plt.plot(x,y,label='water')  # this will draw a straight line\n",
        "plt.plot(x1,y1,label='sand') # this will draw a straight line\n",
        "plt.bar(x1,y1)               # generate bar graph for the values of x1 and y1\n",
        "plt.bar(x,y)                 # generate bar graph for the values of x and y\n",
        "plt.grid(color='green')      # to form grid in graph\n",
        "plt.plot(x,y)                # this will draw a straiht line\n",
        "plt.xlim(0,10)               # to show min and max number in x axis\n",
        "plt.ylim(0,12)               # to show min and max number in y axis\n",
        "plt.legend()                 # this will show label "
      ],
      "execution_count": 4,
      "outputs": [
        {
          "output_type": "execute_result",
          "data": {
            "text/plain": [
              "<matplotlib.legend.Legend at 0x7f0032534438>"
            ]
          },
          "metadata": {
            "tags": []
          },
          "execution_count": 4
        },
        {
          "output_type": "display_data",
          "data": {
            "image/png": "[encoded data removed]",
            "text/plain": [
              "<Figure size 432x288 with 1 Axes>"
            ]
          },
          "metadata": {
            "tags": []
          }
        }
      ]
    }
  ]
}
